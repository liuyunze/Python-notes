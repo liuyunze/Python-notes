{
 "cells": [
  {
   "cell_type": "markdown",
   "metadata": {},
   "source": [
    "# passing rate under .25 "
   ]
  },
  {
   "cell_type": "markdown",
   "metadata": {},
   "source": [
    "统计给定整数M和N区间内素数的个数并对它们求和。"
   ]
  },
  {
   "cell_type": "code",
   "execution_count": 1,
   "metadata": {},
   "outputs": [
    {
     "name": "stdout",
     "output_type": "stream",
     "text": [
      "10 31\n",
      "7 143\n"
     ]
    }
   ],
   "source": [
    "m, n = map(int,input().split())\n",
    "l = []\n",
    "for i in range(m,n+1):\n",
    "    if all([i%j!=0 for j in range(2,i)]):\n",
    "        l.append(i)\n",
    "s=sum(l)\n",
    "count=len(l)\n",
    "if m==1:\n",
    "    s-=1\n",
    "    count-=1\n",
    "print(count,s)"
   ]
  },
  {
   "cell_type": "markdown",
   "metadata": {},
   "source": [
    "验证\"哥德巴赫猜想\""
   ]
  },
  {
   "cell_type": "code",
   "execution_count": 5,
   "metadata": {},
   "outputs": [
    {
     "name": "stdout",
     "output_type": "stream",
     "text": [
      "24\n",
      "24 = 5 + 19\n"
     ]
    }
   ],
   "source": [
    "from math import sqrt\n",
    "n = int(input())\n",
    "if n==4:\n",
    "    print('4 = 2 + 2')\n",
    "else:\n",
    "    for p in range(1,n):\n",
    "        factor = [i for i in range(1,p+1) if p%i==0]\n",
    "        if factor==[1,p] and all((n-p)%i!=0 for i in range(2,int(sqrt(n-p)))):\n",
    "            print(n,\"=\",p,\"+\",n-p)\n",
    "            break"
   ]
  },
  {
   "cell_type": "markdown",
   "metadata": {},
   "source": [
    "所谓完数就是该数恰好等于除自身外的因子之和。例如：6=1+2+3，其中1、2、3为6的因子。本题要求编写程序，找出任意两正整数m和n之间的所有完数。"
   ]
  },
  {
   "cell_type": "code",
   "execution_count": 5,
   "metadata": {},
   "outputs": [
    {
     "name": "stdout",
     "output_type": "stream",
     "text": [
      "2 30\n",
      "6 = 1 + 2 + 3\n",
      "28 = 1 + 2 + 4 + 7 + 14\n"
     ]
    }
   ],
   "source": [
    "from math import sqrt\n",
    "m,n = map(int,input().split())\n",
    "flag = 0\n",
    "for i in range(m,n+1):\n",
    "    lst = [1]\n",
    "    for j in range(2,int(sqrt(i))+1):\n",
    "        if i%j==0:\n",
    "            lst.append(j)\n",
    "            if i//j not in lst:\n",
    "                lst.append(i//j)\n",
    "    if i==(sum(lst)):\n",
    "            flag=1\n",
    "            print(str(i),'=',' + '.join(map(str,sorted(lst))))\n",
    "if not flag:\n",
    "    print(\"None\")"
   ]
  },
  {
   "cell_type": "markdown",
   "metadata": {},
   "source": [
    "字典合并。输入用字符串表示两个字典，输出合并后的字典,字典的键用一个字母或数字表示。注意：1和‘1’是不同的关键字！"
   ]
  },
  {
   "cell_type": "code",
   "execution_count": null,
   "metadata": {},
   "outputs": [],
   "source": [
    "import collections\n",
    "s1=eval(input())\n",
    "s2=eval(input())\n",
    "num=sorted([a for a in set(list(s1.keys())+list(s2.keys())) if type(a)==int])\n",
    "char=sorted([a for a in set(list(s1.keys())+list(s2.keys())) if not type(a)==int])\n",
    "r=collections.OrderedDict([(i,0) for i in num+char])\n",
    "for a,b in s1.items():\n",
    "    r[a]+=b\n",
    "for a,b in s2.items():\n",
    "    r[a]+=b\n",
    "print('{',end='')\n",
    "l=[]\n",
    "for i,v in r.items():\n",
    "    if i==str(i):\n",
    "        item = '\"'+i+'\":'+str(v)\n",
    "    else:\n",
    "        item = str(i)+':'+str(v)\n",
    "    l.append(item)\n",
    "\n",
    "print(','.join(l),end='')\n",
    "print('}')   #only for the format requirement of PTA..."
   ]
  },
  {
   "cell_type": "markdown",
   "metadata": {},
   "source": [
    "请编写程序，对一段英文文本，统计其中所有不同单词的个数，以及词频最大的前10%的单词。\n",
    "所谓“单词”，是指由不超过80个单词字符组成的连续字符串，但长度超过15的单词将只截取保留前15个单词字符。而合法的“单词字符”为大小写字母、数字和下划线，其它字符均认为是单词分隔符。"
   ]
  },
  {
   "cell_type": "code",
   "execution_count": 9,
   "metadata": {
    "scrolled": true
   },
   "outputs": [
    {
     "name": "stdout",
     "output_type": "stream",
     "text": [
      "23\n",
      "5:this\n",
      "4:is\n"
     ]
    }
   ],
   "source": [
    "import sys\n",
    "s='''This is a test.\n",
    "\n",
    "The word \"this\" is the word with the highest frequency.\n",
    "\n",
    "Longlonglonglongword should be cut off, so is considered as the same as longlonglonglonee.  But this_8 is different than this, and this, and this...#\n",
    "this line should be ignored.'''\n",
    "#s=sys.stdin.read()\n",
    "s=s[:s.find('#')]\n",
    "\n",
    "dic={}\n",
    "for k in set([i for i in s if i.isalnum()==False and i!='_']):\n",
    "    s=s.replace(k,' ')\n",
    "\n",
    "for i in s.strip(' ').lower().split():\n",
    "    i = i[:15]\n",
    "    dic[i] = dic.get(i,0)+1\n",
    "r=sorted(dic.items(), key=lambda a:(-a[1],a[0]))\n",
    " \n",
    "print(len(r))\n",
    "for j in range(int(0.1*len(r))):\n",
    "    print(str(r[j][1])+':'+r[j][0])"
   ]
  },
  {
   "cell_type": "markdown",
   "metadata": {},
   "source": [
    "求矩阵鞍点的个数"
   ]
  },
  {
   "cell_type": "code",
   "execution_count": 12,
   "metadata": {},
   "outputs": [
    {
     "name": "stdout",
     "output_type": "stream",
     "text": [
      "4\n",
      "1 7 4 1\n",
      "4 8 3 6\n",
      "1 6 1 2\n",
      "0 7 1 9\n",
      "1\n"
     ]
    }
   ],
   "source": [
    "n = int(input())\n",
    "A = []\n",
    "count = 0\n",
    "for i in range(n):\n",
    "    A.append([int(a) for a in input().split()])\n",
    "for i in range(n):\n",
    "    for j in range(n):\n",
    "        if A[i][j]==max([a for a in A[i]]) and A[i][j]==min([A[b][j] for b in range(n)]):\n",
    "            count+=1\n",
    "print(count)"
   ]
  },
  {
   "cell_type": "code",
   "execution_count": null,
   "metadata": {},
   "outputs": [],
   "source": []
  },
  {
   "cell_type": "code",
   "execution_count": null,
   "metadata": {},
   "outputs": [],
   "source": []
  }
 ],
 "metadata": {
  "kernelspec": {
   "display_name": "Python 3",
   "language": "python",
   "name": "python3"
  },
  "language_info": {
   "codemirror_mode": {
    "name": "ipython",
    "version": 3
   },
   "file_extension": ".py",
   "mimetype": "text/x-python",
   "name": "python",
   "nbconvert_exporter": "python",
   "pygments_lexer": "ipython3",
   "version": "3.7.2"
  }
 },
 "nbformat": 4,
 "nbformat_minor": 2
}
